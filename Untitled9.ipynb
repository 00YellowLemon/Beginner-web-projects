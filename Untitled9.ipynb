{
  "nbformat": 4,
  "nbformat_minor": 0,
  "metadata": {
    "colab": {
      "provenance": [],
      "toc_visible": true,
      "authorship_tag": "ABX9TyNsB3Nm+D8uqPU4P6jZiTMg",
      "include_colab_link": true
    },
    "kernelspec": {
      "name": "python3",
      "display_name": "Python 3"
    },
    "language_info": {
      "name": "python"
    }
  },
  "cells": [
    {
      "cell_type": "markdown",
      "metadata": {
        "id": "view-in-github",
        "colab_type": "text"
      },
      "source": [
        "<a href=\"https://colab.research.google.com/github/00YellowLemon/Beginner-web-projects/blob/main/Untitled9.ipynb\" target=\"_parent\"><img src=\"https://colab.research.google.com/assets/colab-badge.svg\" alt=\"Open In Colab\"/></a>"
      ]
    },
    {
      "cell_type": "code",
      "execution_count": 5,
      "metadata": {
        "colab": {
          "base_uri": "https://localhost:8080/"
        },
        "id": "94peRtEJ7qSv",
        "outputId": "1cdf4380-64e2-4b40-a4c5-9c5aed802e1f"
      },
      "outputs": [
        {
          "output_type": "stream",
          "name": "stdout",
          "text": [
            "Mounted at /content/GEO\n"
          ]
        }
      ],
      "source": [
        "from google.colab import drive\n",
        "\n",
        "# mount from google drive\n",
        "\n",
        "drive.mount('/content/GEO')"
      ]
    },
    {
      "cell_type": "code",
      "source": [
        "import pandas as pd\n",
        "\n",
        "# load mydata set\n",
        "\n",
        "elecdata = pd.read_csv('/content/GEO/MyDrive/dataelec.csv.csv')\n",
        "print(elecdata.head())"
      ],
      "metadata": {
        "colab": {
          "base_uri": "https://localhost:8080/"
        },
        "id": "sPXN4OaC8XKX",
        "outputId": "e50c1545-bf65-4db4-e30b-549e6f0d7236"
      },
      "execution_count": 6,
      "outputs": [
        {
          "output_type": "stream",
          "name": "stdout",
          "text": [
            "  likes comments introverted chosen candidate\n",
            "0            yes         yes              yes\n",
            "1            yes          no               no\n",
            "2             no          no               no\n",
            "3            yes         yes              yes\n",
            "4            yes          no              yes\n"
          ]
        }
      ]
    },
    {
      "cell_type": "code",
      "source": [
        "from sklearn import linear_model\n",
        "\n",
        "# replace data for training\n",
        "\n",
        "newd = elecdata.replace(['yes'], 1)\n",
        "traindata = newd.replace(['no'],2)\n",
        "traindata.at[6, 'likes comments'] = 2\n",
        "print(traindata)\n",
        "\n",
        "# train data\n",
        "x = traindata[['likes comments', 'introverted']]\n",
        "y = traindata['chosen candidate']\n",
        "trainer = linear_model.LinearRegression()\n",
        "trainer.fit(x, y)\n",
        "\n",
        "# predict voter likelyhood to vote\n",
        "\n",
        "# Enter 1 for no 2 for yes\n",
        "\n",
        "ans = trainer.predict([[1,1]])\n",
        "\n",
        "if ans > 1.5:\n",
        "  print(\"chosen candidate\")\n",
        "else:\n",
        "  print(\"Prefered another\")\n",
        "\n"
      ],
      "metadata": {
        "colab": {
          "base_uri": "https://localhost:8080/"
        },
        "id": "apJc2RlpAK8x",
        "outputId": "c0cecd38-28fc-4d87-d379-427197c380d7"
      },
      "execution_count": 31,
      "outputs": [
        {
          "output_type": "stream",
          "name": "stdout",
          "text": [
            "  likes comments  introverted  chosen candidate\n",
            "0              1            1                 1\n",
            "1              1            2                 2\n",
            "2              2            2                 2\n",
            "3              1            1                 1\n",
            "4              1            2                 1\n",
            "5              2            1                 1\n",
            "6              2            2                 2\n",
            "7              1            2                 2\n",
            "8              1            1                 2\n",
            "9              1            1                 2\n",
            "Prefered another\n"
          ]
        },
        {
          "output_type": "stream",
          "name": "stderr",
          "text": [
            "/usr/local/lib/python3.10/dist-packages/sklearn/base.py:439: UserWarning: X does not have valid feature names, but LinearRegression was fitted with feature names\n",
            "  warnings.warn(\n"
          ]
        }
      ]
    },
    {
      "cell_type": "markdown",
      "source": [
        "\n",
        "\n",
        "```\n",
        "# This is formatted as code\n",
        "```\n",
        "\n"
      ],
      "metadata": {
        "id": "cPxEpeyC-k-0"
      }
    }
  ]
}